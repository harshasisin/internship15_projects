{
 "cells": [
  {
   "cell_type": "code",
   "execution_count": 1,
   "metadata": {},
   "outputs": [],
   "source": [
    "#import all the required libraries\n",
    "import pandas as pd\n",
    "import selenium\n",
    "from selenium import webdriver\n",
    "import time\n",
    "from selenium.common.exceptions import StaleElementReferenceException, NoSuchElementException"
   ]
  },
  {
   "cell_type": "markdown",
   "metadata": {},
   "source": [
    "Scrape all the news data as per the data description from The Times of India website for the month of April 2017"
   ]
  },
  {
   "cell_type": "code",
   "execution_count": 2,
   "metadata": {},
   "outputs": [],
   "source": [
    "#Let's 1st connect to the web driver\n",
    "driver=webdriver.Chrome(r\"C:\\Users\\sisin\\Downloads\\chromedriver_win32\\chromedriver.exe\") \n",
    "time.sleep(4)\n",
    "# Go to the main page of TOI\n",
    "url = \"https://timesofindia.indiatimes.com/\"\n",
    "driver.get(url)\n",
    "time.sleep(6)"
   ]
  },
  {
   "cell_type": "code",
   "execution_count": 4,
   "metadata": {},
   "outputs": [],
   "source": [
    "# clicking the menu button\n",
    "menu_button=driver.find_element_by_xpath(\"//div[@class='hamburg LLv0p']\")\n",
    "menu_button.click()"
   ]
  },
  {
   "cell_type": "code",
   "execution_count": 5,
   "metadata": {},
   "outputs": [],
   "source": [
    "#Finding the url for Archives Menu\n",
    "for i in driver.find_elements_by_xpath(\"//div[@class='_19Cmv']/ul/li/a\"):\n",
    "    if(i.text == 'Archives'):\n",
    "        driver.get(i.get_attribute('href'))\n",
    "        break"
   ]
  },
  {
   "cell_type": "code",
   "execution_count": 6,
   "metadata": {},
   "outputs": [
    {
     "name": "stdout",
     "output_type": "stream",
     "text": [
      "April\n"
     ]
    }
   ],
   "source": [
    "#Finding url for April 2017\n",
    "j=0\n",
    "for i in driver.find_elements_by_xpath(\"//span[@class='normtxt']/div/strong/a\"):\n",
    "    if(j==50):\n",
    "        driver.get(i.get_attribute('href'))\n",
    "        break\n",
    "    j+=1"
   ]
  },
  {
   "cell_type": "code",
   "execution_count": 16,
   "metadata": {},
   "outputs": [
    {
     "name": "stdout",
     "output_type": "stream",
     "text": [
      "--\n",
      "--\n",
      "--\n",
      "--\n",
      "--\n",
      "--\n",
      "--\n",
      "--\n",
      "--\n",
      "--\n",
      "--\n",
      "--\n",
      "--\n"
     ]
    }
   ],
   "source": [
    "\n",
    "#Fetching all date urls from calendardays_urls =[]\n",
    "table = driver.find_element_by_id(\"calender\")\n",
    "for i in table.find_elements_by_xpath(\".//tr/td\"):\n",
    "    try:\n",
    "        days_urls.append(i.find_element_by_xpath(\".//a\").get_attribute('href'))\n",
    "    except NoSuchElementException:\n",
    "        print(\"--\")"
   ]
  },
  {
   "cell_type": "code",
   "execution_count": 26,
   "metadata": {},
   "outputs": [],
   "source": [
    "news_links=[]"
   ]
  },
  {
   "cell_type": "code",
   "execution_count": 27,
   "metadata": {},
   "outputs": [],
   "source": [
    "#Collecting urls for news\n",
    "for j in days_urls[:2]:\n",
    "    driver.get(j)\n",
    "    time.sleep(5)\n",
    "    for l in driver.find_elements_by_xpath(\"//table[@class='cnt'][2]//tbody/tr[2]/td[1]/div[3]/table/tbody/tr[2]/td[1]/span/a\"):\n",
    "        news_links.append(l.get_attribute(\"href\"))"
   ]
  },
  {
   "cell_type": "code",
   "execution_count": 28,
   "metadata": {},
   "outputs": [],
   "source": [
    "headlines =[]\n",
    "date =[]\n",
    "author =[]\n",
    "vertical =[]\n",
    "description =[]"
   ]
  },
  {
   "cell_type": "code",
   "execution_count": null,
   "metadata": {},
   "outputs": [],
   "source": [
    "#scraping all the required details from the page\n",
    "for i in news_links:\n",
    "    driver.get(i)\n",
    "    time.sleep(5)\n",
    "    try:\n",
    "        for j in driver.find_elements_by_xpath(\"//h1[@class='_1Y-96']/span\"):\n",
    "            headlines.append(j.text)\n",
    "    except:\n",
    "        headlines.append(\"--\")\n",
    "    try:\n",
    "        for j in driver.find_elements_by_xpath(\"//div[@class='j9QAQ']\"):\n",
    "            date.append(j.text)\n",
    "    except:\n",
    "        date.append(\"--\")\n",
    "    try:\n",
    "        for j in driver.find_elements_by_xpath(\"//div[@class='yYIu- byline']/a\"):\n",
    "            author.append(j.text)\n",
    "    except:\n",
    "        author.append(\"--\")\n",
    "    try:\n",
    "        for j in driver.find_elements_by_xpath(\"//div[@_1-UZe  JnbfB _3BPhv ']/a\"):\n",
    "            vertical.append(j.text)\n",
    "    except:\n",
    "        vertical.append(\"--\")\n",
    "    try:\n",
    "        for j in driver.find_elements_by_xpath(\"//div[@class='_3YYSt clearfix  ']\"):\n",
    "            description.append(j.text)\n",
    "    except:\n",
    "        description.append(\"--\")\n"
   ]
  },
  {
   "cell_type": "code",
   "execution_count": null,
   "metadata": {},
   "outputs": [],
   "source": [
    "print(len(headlines),len(date),len(author),len(vertical),len(description))"
   ]
  },
  {
   "cell_type": "code",
   "execution_count": null,
   "metadata": {},
   "outputs": [],
   "source": [
    "#creating dataframe\n",
    "news=pd.DataFrame({'Title':headlines,\n",
    "                     'Date':date,\n",
    "                     'Author':author,\n",
    "                     'Vertical':vertical})\n"
   ]
  },
  {
   "cell_type": "code",
   "execution_count": null,
   "metadata": {},
   "outputs": [],
   "source": [
    "#saving it to csv file\n",
    "news.to_csv('toi_april_2017_archives.csv')"
   ]
  }
 ],
 "metadata": {
  "kernelspec": {
   "display_name": "Python 3",
   "language": "python",
   "name": "python3"
  },
  "language_info": {
   "codemirror_mode": {
    "name": "ipython",
    "version": 3
   },
   "file_extension": ".py",
   "mimetype": "text/x-python",
   "name": "python",
   "nbconvert_exporter": "python",
   "pygments_lexer": "ipython3",
   "version": "3.8.5"
  }
 },
 "nbformat": 4,
 "nbformat_minor": 4
}
